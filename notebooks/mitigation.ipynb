{
 "cells": [
  {
   "cell_type": "markdown",
   "id": "487678f9",
   "metadata": {
    "jupyter": {
     "outputs_hidden": false
    },
    "pycharm": {
     "name": "#%% md\n"
    }
   },
   "source": [
    "## Importing packages"
   ]
  },
  {
   "cell_type": "code",
   "execution_count": 1,
   "id": "b76d473e",
   "metadata": {
    "jupyter": {
     "outputs_hidden": false
    },
    "pycharm": {
     "name": "#%%\n"
    }
   },
   "outputs": [],
   "source": [
    "import os\n",
    "os.chdir('../')"
   ]
  },
  {
   "cell_type": "code",
   "execution_count": 2,
   "id": "1beb6f0d",
   "metadata": {
    "jupyter": {
     "outputs_hidden": false
    },
    "pycharm": {
     "name": "#%%\n"
    }
   },
   "outputs": [],
   "source": [
    "import pandas as pd\n",
    "import matplotlib.pyplot as plt\n",
    "import seaborn as sns\n",
    "from tueplots import bundles\n",
    "import numpy as np\n",
    "from utils.notebook_helpers import *\n",
    "import warnings\n",
    "from sklearn.metrics import confusion_matrix, ConfusionMatrixDisplay\n",
    "warnings.simplefilter('ignore')"
   ]
  },
  {
   "cell_type": "code",
   "execution_count": 3,
   "id": "61cfc6a6",
   "metadata": {
    "jupyter": {
     "outputs_hidden": false
    },
    "pycharm": {
     "name": "#%%\n"
    }
   },
   "outputs": [],
   "source": [
    "pd.set_option('display.max_columns', 10)\n",
    "pd.set_option(\"display.precision\", 5)"
   ]
  },
  {
   "cell_type": "code",
   "execution_count": 4,
   "id": "7c02e643",
   "metadata": {
    "jupyter": {
     "outputs_hidden": false
    },
    "pycharm": {
     "name": "#%%\n"
    }
   },
   "outputs": [
    {
     "data": {
      "text/plain": [
       "{'text.usetex': True,\n",
       " 'font.family': 'serif',\n",
       " 'text.latex.preamble': '\\\\usepackage{times} ',\n",
       " 'figure.figsize': (3.3, 2.039512162874653),\n",
       " 'figure.constrained_layout.use': True,\n",
       " 'figure.autolayout': False,\n",
       " 'savefig.bbox': 'tight',\n",
       " 'savefig.pad_inches': 0.015,\n",
       " 'font.size': 9,\n",
       " 'axes.labelsize': 9,\n",
       " 'legend.fontsize': 7,\n",
       " 'xtick.labelsize': 7,\n",
       " 'ytick.labelsize': 7,\n",
       " 'axes.titlesize': 9}"
      ]
     },
     "execution_count": 4,
     "metadata": {},
     "output_type": "execute_result"
    }
   ],
   "source": [
    "bundles.aaai2024()"
   ]
  },
  {
   "cell_type": "code",
   "execution_count": 5,
   "id": "c3047fc6",
   "metadata": {
    "jupyter": {
     "outputs_hidden": false
    },
    "pycharm": {
     "name": "#%%\n"
    }
   },
   "outputs": [],
   "source": [
    "plt.rcParams.update(bundles.aaai2024())\n",
    "# Increase the resolution of all the plots below\n",
    "plt.rcParams.update({\"figure.dpi\": 150})"
   ]
  },
  {
   "cell_type": "code",
   "execution_count": 6,
   "id": "205192c8",
   "metadata": {
    "jupyter": {
     "outputs_hidden": false
    },
    "pycharm": {
     "name": "#%%\n"
    }
   },
   "outputs": [],
   "source": [
    "root_path = '_models_trained/causal_nf'"
   ]
  },
  {
   "cell_type": "markdown",
   "id": "c4a923fc",
   "metadata": {
    "jupyter": {
     "outputs_hidden": false
    },
    "pycharm": {
     "name": "#%% md\n"
    }
   },
   "source": [
    "### Running notes\n",
    "\n",
    "To run for a new dataset, *copy* all the cells that are for a particular existing dataset, e.g., German, and paste them in the bottom of the notebook. \n",
    "\n",
    "*OR*\n",
    "\n",
    "Make a copy of the notebook to have the results of a dataset in a separate notebook.\n",
    "\n",
    "---\n",
    "\n",
    "Then, when loading `data_df`, call `load\\_csv\\_file` with proper data name and the split. If you want to see for the entire data, use `all`.\n",
    "\n",
    "Similarly, load the yaml by using the proper data name.\n",
    "\n",
    "### Important note regarding distribution plots!\n",
    "You need to use proper `plot\\_params`. E.g., in German, we use `plot_params = {'rows': 1, 'cols': 3, 'figsize': (7, 1.7), 'plot_idx_legend': 1}`. Importantly, pass *proper* cols, it should be the same *number of treatments*!\n"
   ]
  },
  {
   "cell_type": "markdown",
   "id": "de198e49",
   "metadata": {
    "jupyter": {
     "outputs_hidden": false
    },
    "pycharm": {
     "name": "#%% md\n"
    }
   },
   "source": [
    "## German credit"
   ]
  },
  {
   "cell_type": "code",
   "execution_count": 22,
   "id": "569f8920",
   "metadata": {
    "jupyter": {
     "outputs_hidden": false
    },
    "pycharm": {
     "name": "#%%\n"
    }
   },
   "outputs": [],
   "source": [
    "# choose: train, val, test, all\n",
    "data_df = load_csv_file(root_path, 'german', 'all')\n",
    "params = load_yaml_config(root_path, 'german')"
   ]
  },
  {
   "cell_type": "code",
   "execution_count": 23,
   "id": "29a06c29",
   "metadata": {
    "jupyter": {
     "outputs_hidden": false
    },
    "pycharm": {
     "name": "#%%\n"
    }
   },
   "outputs": [
    {
     "name": "stdout",
     "output_type": "stream",
     "text": [
      "Treatment features: ['duration', 'credit_amount', 'installment_commitment']\n"
     ]
    }
   ],
   "source": [
    "treatment_col_idxs = range(params['dataset__num_sensitive'] + params['dataset__num_covariate'], \n",
    "                           params['dataset__num_sensitive'] + params['dataset__num_covariate'] + params['dataset__num_treatment'])\n",
    "\n",
    "total_features = params['dataset__num_sensitive'] + params['dataset__num_covariate'] + params['dataset__num_treatment'] + 1\n",
    "\n",
    "treatment_features = [c.split('_F')[0] for c in data_df.columns[treatment_col_idxs]]\n",
    "\n",
    "print('Treatment features:', treatment_features)\n",
    "\n",
    "gender_col_name = data_df.columns[0].split('_F')[0]\n",
    "class_col_name = data_df.columns[total_features - 1].split('_F')[0]"
   ]
  },
  {
   "cell_type": "code",
   "execution_count": 24,
   "id": "9e0be61d-5f55-4d62-84b7-73d346dd752f",
   "metadata": {},
   "outputs": [],
   "source": [
    "plot_params = {'rows': 1, 'cols': 3, 'figsize': (7, 1.7), 'plot_idx_legend': 1}\n",
    "result_dict = dtd_itd_analysis(data_df, params, plot=False)"
   ]
  },
  {
   "cell_type": "markdown",
   "id": "f5c2406a-57df-480e-ab13-b52dcab1a42f",
   "metadata": {},
   "source": [
    "## Measures of utilities\n",
    "\n",
    "ESI formulae  for german credit: $ESI_{german}= y \\times \\text{amount} \\times \\frac{\\text{rate}}{100} \\times \\frac{\\text{duration}}{12}$. \n",
    "Here, have a multiplication by 10% since we assume equal rates for everyone. \n",
    "\n",
    "For homecredit we use $ESI_{homecredit} =  \\text{Annuity} \\times 12  \\times \\text{duration} - \\text{Loan amount} $\n",
    "\n",
    "Refer to the main paper for more details on this. \n"
   ]
  },
  {
   "cell_type": "code",
   "execution_count": 25,
   "id": "4ea658bf-b96b-4277-b22a-11072069393e",
   "metadata": {},
   "outputs": [
    {
     "name": "stdout",
     "output_type": "stream",
     "text": [
      "<LGD> Factual female: 1220.5129032258064, Factual male: 1163.8826086956522, Treated male: 940.0341430144928\n",
      "<ESI> Factual female: 312.13282258064515, Factual male: 495.6460144927536, Treated male: 393.85995881427675\n"
     ]
    }
   ],
   "source": [
    "# LGD \n",
    "df_0 = data_df[data_df[f'{gender_col_name}_F'] == 0]\n",
    "df_1 = data_df[data_df[f'{gender_col_name}_F'] == 1]\n",
    "\n",
    "factual_female_lgd = np.mean((1 - df_0[f'{class_col_name}_F']) * df_0['credit_amount_F'])\n",
    "factual_male_lgd = np.mean((1 - df_1[f'{class_col_name}_F']) * df_1['credit_amount_F'])\n",
    "counterfactual_male_lgd = np.mean((1 - df_1[f'{class_col_name}_TTD']) * df_1['credit_amount_CF'])\n",
    "print(f\"<LGD> Factual female: {factual_female_lgd}, Factual male: {factual_male_lgd}, Treated male: {counterfactual_male_lgd}\")\n",
    "\n",
    "# ESI\n",
    "factual_female_esi = np.mean((df_0[f'{class_col_name}_F']) * (df_0['credit_amount_F'] * (df_0['duration_F']/12) / 100)) * 10\n",
    "factual_male_esi = np.mean((df_1[f'{class_col_name}_F']) * (df_1['credit_amount_F']  * (df_1['duration_F']/12) / 100)) * 10\n",
    "counterfactual_male_esi = np.mean((df_1[f'{class_col_name}_TTD']) * (df_1['credit_amount_CF'] * (df_1['duration_CF']/12) / 100)) * 10\n",
    "print(f\"<ESI> Factual female: {factual_female_esi}, Factual male: {factual_male_esi}, Treated male: {counterfactual_male_esi}\")\n"
   ]
  },
  {
   "cell_type": "markdown",
   "id": "6a30693e-8f93-48ae-8b77-2b68e28c8808",
   "metadata": {},
   "source": [
    "## Risks"
   ]
  },
  {
   "cell_type": "code",
   "execution_count": 26,
   "id": "e61629e0-737c-4602-a373-e87327c22dbd",
   "metadata": {},
   "outputs": [
    {
     "data": {
      "image/png": "[encoded data removed]",
      "text/plain": [
       "<Figure size 562.5x300 with 1 Axes>"
      ]
     },
     "metadata": {},
     "output_type": "display_data"
    }
   ],
   "source": [
    "df_0 = data_df[data_df[f'{gender_col_name}_F'] == 0]\n",
    "df_1 = data_df[data_df[f'{gender_col_name}_F'] == 1]\n",
    "\n",
    "palette = sns.color_palette('colorblind')\n",
    "\n",
    "f, axes = plt.subplots(1,1,figsize=(3.75,2), sharex=True, sharey=True)\n",
    "\n",
    "sns.ecdfplot(x=df_0['risk_score_treat_female'], ax=axes, label='Females', color=palette[1])\n",
    "sns.ecdfplot(x=df_1['risk_score_treat_male'], ax=axes, label='Males(unfair $Z$)', color=palette[0], linestyle='--')\n",
    "sns.ecdfplot(x=df_1['risk_score_treat_female'], ax=axes, label='Males(fair $Z$)', color=palette[2])\n",
    "axes.axvline(np.mean(df_0['risk_score_treat_female']), linestyle=':', color=palette[1], label='Avg. females')\n",
    "axes.axvline(np.mean(df_1['risk_score_treat_male']), linestyle=':', color=palette[0], label='Avg. males (unfair $Z$)')\n",
    "axes.axvline(np.mean(df_1['risk_score_treat_female']), linestyle=':', color=palette[2], label='Avg. males (fair $Z$)')\n",
    "axes.set_ylabel('CDF')\n",
    "axes.set_xlabel('Risk score')\n",
    "axes.legend(ncols=1,fontsize=8)\n",
    "plt.savefig('risk_cdf_german.pdf', dpi=100)"
   ]
  },
  {
   "cell_type": "markdown",
   "id": "9e9dee75",
   "metadata": {
    "jupyter": {
     "outputs_hidden": false
    },
    "pycharm": {
     "name": "#%% md\n"
    }
   },
   "source": [
    "---------"
   ]
  }
 ],
 "metadata": {
  "kernelspec": {
   "display_name": "Python 3 (ipykernel)",
   "language": "python",
   "name": "python3"
  },
  "language_info": {
   "codemirror_mode": {
    "name": "ipython",
    "version": 3
   },
   "file_extension": ".py",
   "mimetype": "text/x-python",
   "name": "python",
   "nbconvert_exporter": "python",
   "pygments_lexer": "ipython3",
   "version": "3.9.12"
  }
 },
 "nbformat": 4,
 "nbformat_minor": 5
}
