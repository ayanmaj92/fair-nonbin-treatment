{
 "cells": [
  {
   "cell_type": "markdown",
   "id": "487678f9",
   "metadata": {
    "jupyter": {
     "outputs_hidden": false
    },
    "pycharm": {
     "name": "#%% md\n"
    }
   },
   "source": [
    "# Measuring Non-Binary Treatment Discrimination Analysis"
   ]
  },
  {
   "cell_type": "markdown",
   "id": "06f47e8a",
   "metadata": {
    "pycharm": {
     "name": "#%% md\n"
    }
   },
   "source": [
    "#### Importing packages"
   ]
  },
  {
   "cell_type": "code",
   "execution_count": 1,
   "id": "b76d473e",
   "metadata": {
    "collapsed": false,
    "jupyter": {
     "outputs_hidden": false
    },
    "pycharm": {
     "name": "#%%\n"
    }
   },
   "outputs": [],
   "source": [
    "import os\n",
    "os.chdir('../')"
   ]
  },
  {
   "cell_type": "code",
   "execution_count": 2,
   "id": "1beb6f0d",
   "metadata": {
    "collapsed": false,
    "jupyter": {
     "outputs_hidden": false
    },
    "pycharm": {
     "name": "#%%\n"
    }
   },
   "outputs": [],
   "source": [
    "import pandas as pd\n",
    "import matplotlib.pyplot as plt\n",
    "import seaborn as sns\n",
    "from tueplots import bundles\n",
    "from utils.notebook_helpers import *\n",
    "import warnings\n",
    "from sklearn.metrics import confusion_matrix, ConfusionMatrixDisplay\n",
    "warnings.simplefilter('ignore')"
   ]
  },
  {
   "cell_type": "code",
   "execution_count": 3,
   "id": "61cfc6a6",
   "metadata": {
    "collapsed": false,
    "jupyter": {
     "outputs_hidden": false
    },
    "pycharm": {
     "name": "#%%\n"
    }
   },
   "outputs": [],
   "source": [
    "pd.set_option('display.max_columns', 10)\n",
    "pd.set_option(\"display.precision\", 5)"
   ]
  },
  {
   "cell_type": "code",
   "execution_count": 4,
   "id": "7c02e643",
   "metadata": {
    "collapsed": false,
    "jupyter": {
     "outputs_hidden": false
    },
    "pycharm": {
     "name": "#%%\n"
    }
   },
   "outputs": [
    {
     "data": {
      "text/plain": [
       "{'text.usetex': True,\n",
       " 'font.family': 'serif',\n",
       " 'text.latex.preamble': '\\\\usepackage{times} ',\n",
       " 'figure.figsize': (3.3, 2.039512162874653),\n",
       " 'figure.constrained_layout.use': True,\n",
       " 'figure.autolayout': False,\n",
       " 'savefig.bbox': 'tight',\n",
       " 'savefig.pad_inches': 0.015,\n",
       " 'font.size': 9,\n",
       " 'axes.labelsize': 9,\n",
       " 'legend.fontsize': 7,\n",
       " 'xtick.labelsize': 7,\n",
       " 'ytick.labelsize': 7,\n",
       " 'axes.titlesize': 9}"
      ]
     },
     "execution_count": 4,
     "metadata": {},
     "output_type": "execute_result"
    }
   ],
   "source": [
    "bundles.aaai2024()"
   ]
  },
  {
   "cell_type": "code",
   "execution_count": 5,
   "id": "c3047fc6",
   "metadata": {
    "collapsed": false,
    "jupyter": {
     "outputs_hidden": false
    },
    "pycharm": {
     "name": "#%%\n"
    }
   },
   "outputs": [],
   "source": [
    "plt.rcParams.update(bundles.aaai2024())\n",
    "# Increase the resolution of all the plots below\n",
    "plt.rcParams.update({\"figure.dpi\": 150})"
   ]
  },
  {
   "cell_type": "code",
   "execution_count": 7,
   "id": "205192c8",
   "metadata": {
    "collapsed": false,
    "jupyter": {
     "outputs_hidden": false
    },
    "pycharm": {
     "name": "#%%\n"
    }
   },
   "outputs": [],
   "source": [
    "root_path = '_models_trained/causal_nf'"
   ]
  },
  {
   "cell_type": "markdown",
   "id": "c4a923fc",
   "metadata": {
    "jupyter": {
     "outputs_hidden": false
    },
    "pycharm": {
     "name": "#%% md\n"
    }
   },
   "source": [
    "#### Running notes\n",
    "To run for a new dataset, *copy* all the cells that are for a particular existing dataset, e.g., German, and paste them in the bottom of the notebook. So, from the cell that says German credit *all the way* to the cell titled \"Downstream effect of path-specific treatment: $Y(S^F,X^F,Z(do(S=S^{CF}), do(X=X^F)))$\". \n",
    "\n",
    "*OR*\n",
    "\n",
    "Copy the above mentioned cells to a new notebook to have the results of a dataset in a separate notebook.\n",
    "\n",
    "---\n",
    "\n",
    "Then, when loading `data_df`, call `load\\_csv\\_file` with proper data name and the split. If you want to see for the entire data, use `all`.\n",
    "\n",
    "Similarly, load the yaml by using the proper data name.\n",
    "\n",
    "#### Important note regarding distribution plots!\n",
    "You need to use proper `plot\\_params`. E.g., in German, I use `plot_params = {'rows': 1, 'cols': 3, 'figsize': (7, 1.7), 'plot_idx_legend': 1}`. Importantly, pass *proper* cols, it should be the same as the *number of treatment decisions*!\n"
   ]
  },
  {
   "cell_type": "markdown",
   "id": "de198e49",
   "metadata": {
    "jupyter": {
     "outputs_hidden": false
    },
    "pycharm": {
     "name": "#%% md\n"
    }
   },
   "source": [
    "# German credit\n"
   ]
  },
  {
   "cell_type": "code",
   "execution_count": 8,
   "id": "569f8920",
   "metadata": {
    "collapsed": false,
    "jupyter": {
     "outputs_hidden": false
    },
    "pycharm": {
     "name": "#%%\n"
    }
   },
   "outputs": [],
   "source": [
    "# choose: train, val, test, all\n",
    "data_df = load_csv_file(root_path, 'german', 'all')\n",
    "params = load_yaml_config(root_path, 'german')"
   ]
  },
  {
   "cell_type": "code",
   "execution_count": 9,
   "id": "29a06c29",
   "metadata": {
    "collapsed": false,
    "jupyter": {
     "outputs_hidden": false
    },
    "pycharm": {
     "name": "#%%\n"
    }
   },
   "outputs": [
    {
     "name": "stdout",
     "output_type": "stream",
     "text": [
      "Treatment features: ['duration', 'credit_amount', 'installment_commitment']\n"
     ]
    }
   ],
   "source": [
    "treatment_col_idxs = range(params['dataset__num_sensitive'] + params['dataset__num_covariate'], \n",
    "                           params['dataset__num_sensitive'] + params['dataset__num_covariate'] + params['dataset__num_treatment'])\n",
    "\n",
    "total_features = params['dataset__num_sensitive'] + params['dataset__num_covariate'] + params['dataset__num_treatment'] + 1\n",
    "\n",
    "treatment_features = [c.split('_F')[0] for c in data_df.columns[treatment_col_idxs]]\n",
    "\n",
    "print('Treatment features:', treatment_features)\n",
    "\n",
    "gender_col_name = data_df.columns[0].split('_F')[0]\n",
    "class_col_name = data_df.columns[total_features - 1].split('_F')[0]"
   ]
  },
  {
   "cell_type": "markdown",
   "id": "f37967d9",
   "metadata": {
    "jupyter": {
     "outputs_hidden": false
    },
    "pycharm": {
     "name": "#%% md\n"
    }
   },
   "source": [
    "#### Direct and Total Discrimination\n",
    "\n",
    "For each group $S^F=0$ and $S^F=1$, Total Treatment Discrimination is:\n",
    "\n",
    "$TTD_{S^F \\in [0,1]} = Z^{CF}(do(S=S^{CF})) - Z^F$\n",
    "\n",
    "Similarly, the Direct Treatment Discrimination is measured with respect to the path-specific of the treatment as:\n",
    "\n",
    "$DTD_{S^F \\in [0, 1]} = Z^{SPCF}(do(S=S^{CF}), do(X=X^F)) - Z^F$"
   ]
  },
  {
   "cell_type": "markdown",
   "id": "5060554f",
   "metadata": {
    "jupyter": {
     "outputs_hidden": false
    },
    "pycharm": {
     "name": "#%% md\n"
    }
   },
   "source": [
    "##### a. Plot and get results dict for TTD and DTD"
   ]
  },
  {
   "cell_type": "code",
   "execution_count": 11,
   "id": "7e75cd46",
   "metadata": {
    "collapsed": false,
    "jupyter": {
     "outputs_hidden": false
    },
    "pycharm": {
     "name": "#%%\n"
    }
   },
   "outputs": [],
   "source": [
    "plot_params = {'rows': 1, 'cols': 3, 'figsize': (7, 1.7), 'plot_idx_legend': 1}\n",
    "result_dict = dtd_itd_analysis(data_df, params, plot=False, plot_params=plot_params)"
   ]
  },
  {
   "cell_type": "markdown",
   "id": "ea2c8c07",
   "metadata": {
    "jupyter": {
     "outputs_hidden": false
    },
    "pycharm": {
     "name": "#%% md\n"
    }
   },
   "source": [
    "##### b. Scatter plots"
   ]
  },
  {
   "cell_type": "code",
   "execution_count": 12,
   "id": "eaafd6c4",
   "metadata": {
    "collapsed": false,
    "jupyter": {
     "outputs_hidden": false
    },
    "pycharm": {
     "name": "#%%\n"
    }
   },
   "outputs": [],
   "source": [
    "df = data_df\n",
    "\n",
    "treatment_vals_F_0 = df[df[f'{gender_col_name}_F'] == 0][\n",
    "[f'{c}_F' for c in treatment_features]].to_numpy()\n",
    "treatment_vals_CF_0 = df[df[f'{gender_col_name}_F'] == 0][\n",
    "[f'{c}_CF' for c in treatment_features]].to_numpy()\n",
    "treatment_vals_PSDT_0 = df[df[f'{gender_col_name}_F'] == 0][\n",
    "        [f'{c}_PSDT' for c in treatment_features]].to_numpy()\n",
    "\n",
    "td_vals_0 = treatment_vals_CF_0 - treatment_vals_F_0\n",
    "new_dtd_vals_0 = treatment_vals_PSDT_0 - treatment_vals_F_0\n",
    "\n",
    "treatment_vals_F_1 = df[df[f'{gender_col_name}_F'] == 1][\n",
    "    [f'{c}_F' for c in treatment_features]].to_numpy()\n",
    "treatment_vals_CF_1 = df[df[f'{gender_col_name}_F'] == 1][\n",
    "    [f'{c}_CF' for c in treatment_features]].to_numpy()\n",
    "treatment_vals_PSDT_1 = df[df[f'{gender_col_name}_F'] == 1][\n",
    "        [f'{c}_PSDT' for c in treatment_features]].to_numpy()\n",
    "\n",
    "td_vals_1 = treatment_vals_CF_1 - treatment_vals_F_1\n",
    "new_dtd_vals_1 = treatment_vals_PSDT_1 - treatment_vals_F_1"
   ]
  },
  {
   "cell_type": "markdown",
   "id": "0c8e9e8e",
   "metadata": {
    "jupyter": {
     "outputs_hidden": false
    },
    "pycharm": {
     "name": "#%% md\n"
    }
   },
   "source": [
    "##### c. Print TD and DTD tables"
   ]
  },
  {
   "cell_type": "code",
   "execution_count": 13,
   "id": "00a9c0fc",
   "metadata": {
    "collapsed": false,
    "jupyter": {
     "outputs_hidden": false
    },
    "pycharm": {
     "name": "#%%\n"
    }
   },
   "outputs": [
    {
     "name": "stdout",
     "output_type": "stream",
     "text": [
      "  Overall                                   duration  \\\n",
      "0      TD  -0.32521140000000015+/-3.3507759304784126   \n",
      "1     DTD    -0.2760340000000001+/-3.073086454016232   \n",
      "\n",
      "                            credit_amount  \\\n",
      "0  -92.79789999999991+/-977.1157497964738   \n",
      "1  -95.38485999999997+/-877.4531931779364   \n",
      "\n",
      "                          installment_commitment  \n",
      "0   -0.0002646500000000884+/-0.39668381647826145  \n",
      "1  -0.00024009999999990983+/-0.39722475384621564  \n",
      "-----------------------------------------------------------------\n",
      "  gender 0                                  duration  \\\n",
      "0       TD    1.2945795000000002+/-2.421344375191117   \n",
      "1      DTD  0.46148479999999914+/-2.7245204662967595   \n",
      "\n",
      "                            credit_amount  \\\n",
      "0  253.34230000000002+/-767.9566100869523   \n",
      "1           164.65805+/-749.2570989254076   \n",
      "\n",
      "                        installment_commitment  \n",
      "0  0.0010302499999998993+/-0.33810819323392866  \n",
      "1   0.0009528500000000051+/-0.3367224414578877  \n",
      "-----------------------------------------------------------------\n",
      "  gender 1                                  duration  \\\n",
      "0       TD   -0.7921094999999996+/-2.996769727094251   \n",
      "1      DTD  -0.5868734999999994+/-2.7668162450205167   \n",
      "\n",
      "                             credit_amount  \\\n",
      "0  -243.11130000000048+/-897.9371280431615   \n",
      "1  -212.39610000000005+/-801.3306934227095   \n",
      "\n",
      "                        installment_commitment  \n",
      "0   -0.0007710499999999954+/-0.407418255482459  \n",
      "1  -0.0007526500000001324+/-0.4051844693135274  \n",
      "-----------------------------------------------------------------\n"
     ]
    }
   ],
   "source": [
    "for k in result_dict.keys():\n",
    "    res = result_dict[k]\n",
    "    cols = [f'{k}'] + [c for c in treatment_features]\n",
    "    rows = []\n",
    "    for meas in ['TD', 'DTD']:\n",
    "        val_row = {cols[0]: meas}\n",
    "        i = 1\n",
    "        for c in treatment_features:\n",
    "            val_row[cols[i]] = f'{res[meas][c][0]}+/-{res[meas][c][1]}'\n",
    "            i += 1\n",
    "        rows.append(val_row)\n",
    "    df = pd.DataFrame(rows)\n",
    "    print(df)\n",
    "    print('-----------------------------------------------------------------')\n",
    "    "
   ]
  },
  {
   "cell_type": "markdown",
   "id": "ae09b8af",
   "metadata": {
    "jupyter": {
     "outputs_hidden": false
    },
    "pycharm": {
     "name": "#%% md\n"
    }
   },
   "source": [
    "#### Downstream effect of Total treatment discrimination ($TTD_E$): $Y(S^F,X^F,do(Z=Z^{CF}))$"
   ]
  },
  {
   "cell_type": "code",
   "execution_count": 14,
   "id": "b0b26366",
   "metadata": {
    "collapsed": false,
    "jupyter": {
     "outputs_hidden": false
    },
    "pycharm": {
     "name": "#%%\n"
    }
   },
   "outputs": [
    {
     "data": {
      "image/png": "[encoded data removed]",
      "text/plain": [
       "<Figure size 495x305.927 with 2 Axes>"
      ]
     },
     "metadata": {},
     "output_type": "display_data"
    },
    {
     "data": {
      "image/png": "[encoded data removed]",
      "text/plain": [
       "<Figure size 495x305.927 with 2 Axes>"
      ]
     },
     "metadata": {},
     "output_type": "display_data"
    }
   ],
   "source": [
    "for gender_val in [0, 1]:\n",
    "    sens_0 = data_df[data_df[f'{gender_col_name}_F'] == gender_val]\n",
    "    cm = confusion_matrix(sens_0[f'{class_col_name}_F'], sens_0[f'{class_col_name}_TTD'], labels=[0, 1], normalize='true')  # normalize='true'\n",
    "    disp = ConfusionMatrixDisplay(confusion_matrix=cm, display_labels=[0, 1])\n",
    "    disp.plot()\n",
    "    plt.ylabel('$Y^F$')\n",
    "    plt.xlabel('$Y^{CF}(S^{F},X^{F},Z^{CF})$')\n",
    "    plt.title(f'{gender_col_name} factual {gender_val}')\n",
    "    plt.show()"
   ]
  },
  {
   "cell_type": "markdown",
   "id": "54305752",
   "metadata": {
    "jupyter": {
     "outputs_hidden": false
    },
    "pycharm": {
     "name": "#%% md\n"
    }
   },
   "source": [
    "#### Downstream effect of direct treatment discrimination (DTD_E): $Y(S^F,X^F,Z^{SPCF}(do(S=S^{CF}), do(X=X^F)))$"
   ]
  },
  {
   "cell_type": "code",
   "execution_count": 15,
   "id": "19da15ce",
   "metadata": {
    "collapsed": false,
    "jupyter": {
     "outputs_hidden": false
    },
    "pycharm": {
     "name": "#%%\n"
    }
   },
   "outputs": [
    {
     "data": {
      "image/png": "[encoded data removed]",
      "text/plain": [
       "<Figure size 495x305.927 with 2 Axes>"
      ]
     },
     "metadata": {},
     "output_type": "display_data"
    },
    {
     "data": {
      "image/png": "[encoded data removed]",
      "text/plain": [
       "<Figure size 495x305.927 with 2 Axes>"
      ]
     },
     "metadata": {},
     "output_type": "display_data"
    }
   ],
   "source": [
    "for gender_val in [0, 1]:\n",
    "    sens_0 = data_df[data_df[f'{gender_col_name}_F'] == gender_val]\n",
    "    cm = confusion_matrix(sens_0[f'{class_col_name}_F'], sens_0[f'{class_col_name}_PSDT'], labels=[0, 1], normalize='true')\n",
    "    disp = ConfusionMatrixDisplay(confusion_matrix=cm, display_labels=[0, 1])\n",
    "    disp.plot()\n",
    "    plt.ylabel('$Y^F$')\n",
    "    plt.xlabel('$Y^{PS}(S^{F},X^{F},Z^{PS})$')\n",
    "    plt.title(f'{gender_col_name} factual {gender_val}')\n",
    "    plt.show()"
   ]
  },
  {
   "cell_type": "markdown",
   "id": "9e9dee75",
   "metadata": {
    "jupyter": {
     "outputs_hidden": false
    },
    "pycharm": {
     "name": "#%% md\n"
    }
   },
   "source": [
    "---------"
   ]
  }
 ],
 "metadata": {
  "kernelspec": {
   "display_name": "Python 3 (ipykernel)",
   "language": "python",
   "name": "python3"
  },
  "language_info": {
   "codemirror_mode": {
    "name": "ipython",
    "version": 3
   },
   "file_extension": ".py",
   "mimetype": "text/x-python",
   "name": "python",
   "nbconvert_exporter": "python",
   "pygments_lexer": "ipython3",
   "version": "3.9.12"
  }
 },
 "nbformat": 4,
 "nbformat_minor": 5
}